{
  "cells": [
    {
      "cell_type": "markdown",
      "metadata": {
        "id": "KTzWshdd9xYe"
      },
      "source": [
        "# Minimax i Alpha-beta pruning algoritmi\n",
        "#### **Studij:** Preddiplomski studij\n",
        "#### **Studijska grupa:** Informatika\n",
        "#### **Predmet:** Uvod u umjetnu inteligenciju\n",
        "#### **Akademska godina:** 2020/2021\n",
        "#### **Student:** Josip Ante Cindrić\n",
        "#### **Profesor:** Prof. dr. sc. Saša Mladenović\n"
      ]
    },
    {
      "cell_type": "markdown",
      "metadata": {
        "id": "Gp6V0ts4CA48"
      },
      "source": [
        "## Uvod\n",
        "Algoritmi **minimax** i **alpha-beta pruning** svojstveni su područjima teorije igara, teorije odluka te umjetne inteligencije. **Minimax** je algoritam fokusiran na minimiziranje mogućeg gubitka u najgorem mogućem slučaju za igrača u igrama sume nula sa finitnim brojem igraća $n$. **Alpha-beta pruning** algoritam je algoritam pretrage koji je nadogradnja na postojeći **minimax** algoritam čiji je cilj smanjiti količinu čvorova u pretrazi stabla. Za izlaganje ovih algoritama izgrađena je jednostavna igra **„Križić kružić“**."
      ]
    },
    {
      "cell_type": "markdown",
      "metadata": {
        "id": "BdkD2LtY5QL7"
      },
      "source": [
        "## Potreba za algoritmima pretrage u području umjetne inteligencije\n",
        "Pretraga je univerzalna metoda rješavanja problema u području umjetne inteligencije. Problemi koji su namjenjeni umjetnoj inteligenciji često nisu rješivi dedukcijom pa je to razlog ljudske potrebe za umjetnom formom inteligencije koja je bolja u rješavanju problema metodom pokušaja i pogreške od čovjeka. Takvim problemima umjetna inteligencija pristupa algoritmima pretrage te ih možemo klasificirati u tri distinktne klase: **jednoagentni problemi pretraživanja puta**, **problemi igranja igara** te **problemi zadovoljavanja ograničenja**.\n",
        "\n",
        "Kao primjer **jednoagentnog problema pretraživanja puta** možemo uzeti $n\\times n$ slagalicu sa $n^2-1$ brojeva koje treba složiti u redosljed ili pronalazak optimalnog puta. Za takve probleme rješenja mogu ponuditi razni jednoagentni algoritmi koje možemo podjeliti na dvije distinktne klase: **algoritme sirove snage** ili **informirane algoritme**. Glavna razlika između ove dvije klase algoritama jest to što **algoritmi sirove snage** ne zahtjevaju znanje specifično određenoj domeni problema već su univerzalni za sve probleme dok **informirani algoritmi**, nazivani i **heuristički algoritmi**, zahtjevaju znanje o problemu te domeni primjene što dovodi do poboljšanja optimizacije i efikasnosti naspram **algoritama sirove snage**. Neki od **algoritama sirove snage** su:\n",
        "- pretraga po dubini\n",
        "- pretraga po širini\n",
        "- ograničeno pretraživanje po dubini\n",
        "- iterativna pretraga u dubinu\n",
        "\n",
        "S druge strane neki od **informiranih algoritama su:\n",
        "- A∗ algoritam\n",
        "- iterativna pretraga u dubinu A* algoritmom\n",
        "- pohlepna pretraga\n",
        "- čista heuristička pretraga\n",
        "\n",
        "Korak dalje u kompleksnosti **heurističkih algoritama** donosi **problem igranja igara**. Problem koji je mučio programere koji su se bavili problemima **umjetne inteligencije** prije nego je podučje dobilo ime je problem izrade šahovskog programa koji može pobjediti čovjeka. 1996. godine **Deep Blue** raučunalo razvijeno od strane IBM-a je pobjedilo vodečeg svijetskog šahista Garrya Kasparova. Algoritmi zaslužni za to su **minimax** tj. **alpha-beta pruning**. Neki od ostalih algoritama koji se koriste u ovome području su:\n",
        "- negamax\n",
        "- negascout\n",
        "- expectiminimax\n",
        "- Monte Carlo pretraga stabla\n",
        "\n",
        "Temelj ovih algoritama je **optimizacija evaluacije stanja** u igri koja se evaluira. Svaki od navedenih algoritama ima specifičnu sferu u kojoj je najkorisniji te su i razvijeni sa namjerom optimizacije rješavanja problema gdje klasični **minimax** i **alpha-beta pruning** nisu bili zadovoljavajući.\n",
        "\n",
        "Treča klasa problema je klasa **problema zadovoljavanja ograničenja**. Najpopularniji problemi ovog područja je rješavanje **Sudoku** zagonetki i problem **$n$-kraljica**. Princip modeliranja problema u ovoj klasi jest sljedeći: zadane su varijable, vrijednosti svojstvene svakoj varijabli te skup ograničenja na vrijednosti kojima mogu biti zadane varijable. Na primjeru problema **$n$-kraljica** varijable bi bile predstavljene kao svaka kraljica posebno, vrijednosti bi bile pozicije na ploči te ograničenja bi bila skup binarnih ograničenja na svaki par kraljica koja im brane stajati na pozicijama u istim **redovima**, **stupcima** i **dijagonalama**. Neki od algoritama koji su primjenjivi za rješavanje ovih problema jesu:\n",
        "- kronološko unatražno pretraživanje\n",
        "- inteligentno unatražno pretraživanje"
      ]
    },
    {
      "cell_type": "markdown",
      "metadata": {
        "id": "-plAMFBTDT6U"
      },
      "source": [
        "## Minimax algoritam\n",
        "**Minimax** je algoritam koji je svojstven igrama **sume nula**(eng. zero-sum) tj. igrama koje imaju inverznu vrijednost evaluacije stanja za igraće između poteza gdje je formalna definicija $v_x+v_y=0$ za koju su $v_x$ i $v_y$ evaluacije stanja za igraće $x$ i $y$ u igri između poteza). Jednostavno rečeno u igri sume nula **gubitak** jednog igraća je u direktnom balansu sa **dobitkom** drugoga igraća. **Minimax vrijednost** poteza u igri za igraća je najmanja vrijednost poteza kojeg protivnik može natjerati protivnike da poduzmu **evaluacijom strategije** za sebe i za protivnike izmjenično. Formalna definicija **minimax** vrijednosti za potez igraća je $\\overline{v_i} =\\min_{a_{-i}}   \\max_{a_i}  v_i (a_i, a_{-i})$ gdje je i igrač za kojeg primjenjujemo **minimax** funkciju, $-i$ protivnik, $v_i$ vrijednost **minimax** funkcije, $a_i$ potez igraća $i$ te $a_{-i}$ potez igraća $-i$. U igrama sume nula za dva igraća rezultat **minimax** algoritma je ***Nashov ekvilibrij***, dok je za igre sa više od dva igraća primjena algoritma kompleksnija. **Prostorna** i **vremenska** kompleksnost **minimax** algoritma jednostavna je za razmotriti ako pretragu **minimax** algoritma konceptualiziramo kao pretragu stabla gdje je svaka rekurzivna evaluacija novi čvor koji seže do ili proizvoljne dubine ili do završnog stanja igre. Dakle u najgorem slučaju svaki čvor ima $x$ moguće djece od kojih svako dijete ima jednako toliko vlastite djece do dubine $d$. Prema tome očito je da je u najgorem slučaju **vremenska** kompleksnost algoritma $O(x^d)$. Što se tiče **prostorne** kompleksnosti sagleda se ista struktura te je evidentno da je ona $O(dx)$ . Kao što vidimo **prostorna** i **vremenska** složenost nisu limitirane količinom igraća koji sudjeluju u igri na kojoj se vrši minimax pretraga već samo arbitrarno zadanom dubinom $d$, što nam daje naznaku da su performanse algoritma direktno uvjetovane **snagom** računala koje izvršava pretragu i **optimizacije** izvršnog koda. \n"
      ]
    },
    {
      "cell_type": "markdown",
      "metadata": {
        "id": "0yUtpWP3LPSh"
      },
      "source": [
        "## Alpha-beta pruning algoritam\n",
        "Modifikacija **minimax** algoritma pod imenom **alpha-beta pruning**, algoritam je koji u prosjeku uvelike poboljšava prostornu i vremensku složenost. Poanta **alpha-beta pruning** algoritma jest to da već postojeće rekurzivne pozive **minimax** algoritma dopunimo sa evaluacijom vrijednosti **alfa** i **beta** koji služe za eliminiranje potrebe za *potpunom pretragom* stabla u povoljnim slučajevima evaluacije određenih čvorova. Konkretnije **alfa** i **beta** predstavljaju **minimalnu vrijednost** koja se osigurava *igraču koji maksimizira* te **maksimalnu vrijednost** koja se osigurava *igraču koji minimizira*. Inicijalno **alfa** poprima minimalnu vrijednost koju u teoriji jest **minus beskonačno**, a **beta** poprima suprotnu vrijednost od **plus beskonačno** tj. oba igrača počinju sa najgorim mogućim vrijednostima za vlastite evaluacije. Tijekom realizacije algoritma kada se **maksimalna vrijednost** rekurzivno vrati *igraču koji minimizira* te je ta vrijednost evaluirana kao **povoljnija** od **minimalne vrijednosti** *igrača koji maksimizira* algoritam zaključuje da *igrač koji maksimizira* **ne treba** razmatrati daljnje čvorove stabla u pretrazi tj. sljedeće moguće poteze. **Vremenska** i **prostorna** kompleksnost u najgorem slučaju su jednake kao kod **minimax** algoritma, ali u najboljem slučaju je napredak ogroman sa $O(x^d)$  koji daje **minimax** na $O(\\sqrt{x^d})$ kojeg daje **alpha-beta pruning**.\n"
      ]
    },
    {
      "cell_type": "markdown",
      "metadata": {
        "id": "hU90msJdR0uR"
      },
      "source": [
        "## Realizacije algoritama u pseudokodu\n",
        "Realizacija **minimax** algoritma vrlo je jednostavna u inačici pseudokoda. Prvi blok koda je provjera potrebe za prekidanjem rekurzije algoritma za slučaj da je došlo do **kraja igre** ili da je dostignuta željena **dubina**. Drugi koji je ujedno i posljednji blok je blok koji izvršava **poziv evaluacije** mogućih koraka u ovisnosti o kojemu se igraču radi.\n",
        "\n",
        "```\n",
        "function minimax(node, depth, maximizingPlayer) is\n",
        "    if depth = 0 or node is a terminal node then\n",
        "        return the heuristic value of node\n",
        "    if maximizingPlayer then\n",
        "        value := −∞\n",
        "        for each child of node do\n",
        "            value := max(value, minimax(child, depth − 1, FALSE))\n",
        "        return value\n",
        "    else (* minimizing player *)\n",
        "        value := +∞\n",
        "        for each child of node do\n",
        "            value := min(value, minimax(child, depth − 1, TRUE))\n",
        "        return value\n",
        "\n",
        "minimax(origin, depth, True) #inicijalni poziv\n",
        "```\n",
        "Realizacija **alpha-beta pruning** algoritma se razlikuje samo po dodatnim vrijednostima **alfa** i **beta** koje se dodatno prosljeđuju u rekurzivne pozive te u samom njihovom korištenju. Naime u **minimax** algoritmu nakon poziva evaluacije sljedećeg poteza slijedi **nova iteracija** petlje koja radi istu stvar, dok se u **alpha-beta pruning** algoritmu u istoj iteraciji petlje uspoređuje *maksimizirana* tj. *minimizirana* vrijednost sa **alfa** ili **beta** vrijednostima te se u prikladnom slučaju prekida petlja te se vraća vrijednost evaluacije bez novih rekurzivnih poziva.\n",
        "\n",
        "```\n",
        "function alphabeta(node, depth, α, β, maximizingPlayer) is\n",
        "    if depth = 0 or node is a terminal node then\n",
        "        return the heuristic value of node\n",
        "    if maximizingPlayer then\n",
        "        value := −∞\n",
        "        for each child of node do\n",
        "            value := max(value, alphabeta(child, depth − 1, α, β, FALSE))\n",
        "            α := max(α, value)\n",
        "            if α ≥ β then\n",
        "                break (* β cut-off *)\n",
        "        return value\n",
        "    else\n",
        "        value := +∞\n",
        "        for each child of node do\n",
        "            value := min(value, alphabeta(child, depth − 1, α, β, TRUE))\n",
        "            β := min(β, value)\n",
        "            if β ≤ α then\n",
        "                break (* α cut-off *)\n",
        "        return value\n",
        "\n",
        "alphabeta(origin, depth, −∞, +∞, True) # inicijalni poziv\n",
        "```\n"
      ]
    },
    {
      "cell_type": "markdown",
      "metadata": {
        "id": "-L9c1GGwTOUJ"
      },
      "source": [
        "##Primjena minimax i alpha-beta pruning algoritama na igri „Križić kružić“\n",
        "**„Križić kružić“** je igra sume nula za dva igraća kojima su dodijeljeni vlastiti simboli $X$  ili $O$  te se igra na $3x3$ **ploči** gdje je uvjet pobjede postaviti **tri vlastita simbola** u *redak*, *stupac* ili *dijagonalu*. Igra može završiti i **neriješeno** ako se ne realizira pobjeda. Za razmatranje naših algoritama potrebno je uvidjeti da je **broj mogućih poteza** prije početka **devet** pošto polja na ploči ima točno devet, a sa svakim potezom broj polja se smanjuje za jedan. Time možemo **vremensku kompleksnost** *najgoreg slučaja* evaluirati na $O(x!)$ gdje je $x=9$ sa **minimax** algoritmom, a u *najboljem slučaju* za **alpha-beta pruning** algoritam ona postaje $O(\\sqrt{x!})$ gdje je $x=9$. U samoj realizaciji algoritama na **„Križić kružić“** njih možemo dodatno pojednostavniti time što ćemo samo provjeravati je li igra završena pošto želimo provjeriti stanja do **krajnje dubine** radi same jednostavnosti igre. Time smo eliminirali varijablu $d$ te je učinili konstantnom($d=9$). Još smo k tome evaluacijska stanja limitirali na elemente skupa $\\{-1, 0, 1\\}$ prikladno krajnjim evaluacijama same igre($\\{gubitak, izjednačenje, dobitak\\}$). Na primjeru sa slike ćemo prikazati konkretan rad algoritama. Prema navedenim podacima u najboljem slučaju na primjeru igre **„Križić kružić“** dobivamo moguče smanjenje rekurzivnih poziva do 99%.\n",
        "\n",
        "\n",
        "![](https://drive.google.com/uc?id=125LqRFG8BoBYmKRWUxkeVdohhSUVuXSl)\n",
        "\n",
        "\n",
        "Na slici vidimo stablo realizirano **minimax** algoritmom. Rekurzivnim pozivima došli smo do **krajnjih stanja**. Na sljedećoj slici možemo vidjeti kako će se dobivena stanja rekurzivno vratiti na prve pozive **minimax** funkcije.\n",
        "\n",
        "\n",
        "![](https://drive.google.com/uc?id=1Iit2qy09x5aU-CVhFmDAJkEbr-yk16e2)\n",
        "\n",
        "\n",
        "Prema tome možemo vidjeti da nam je samo jedno stanje povoljno te je evidentno da će algoritam izabrati čvor sa tom evaluacijom. Ovaj primjer je izrazito povoljan za prikaz rada **alpha-beta pruning** algoritma. Ako razmotrimo obje slike slijed rekurzivnih poziva pratimo sa lijeva na desno te ako razmotrimo rad **alpha-beta pruning** algoritma evidentno je da se kompletno podstablo **1.2** neće izvršiti pošto smo našli **pobjedničko** tj. **maksimizirano** stanje.\n",
        "\n",
        "Primjer sa slike možemo realizirati koristeći i simulaciju izađenu za projekt.\n",
        "\n",
        "**AIStarting** --> Hoće li prvi igrać biti AI\n",
        "\n",
        "**Pruning** --> Hoćemo li koristiti Alpha-beta pruning(u suprotnom se koristi minimax)\n",
        "\n",
        "**Monitoring** --> Hoćemo li pratiti svaki rekurzivni poziv pretrage\n",
        "\n",
        "**RunSimulation** --> Hoćemo li prikazati simulaciju sa unesenom pločom(u sprotnom igramo igru od početka)"
      ]
    },
    {
      "cell_type": "code",
      "execution_count": null,
      "metadata": {
        "cellView": "form",
        "id": "XpuxrtrNbkrX"
      },
      "outputs": [],
      "source": [
        "AIStarting = True #@param {type:\"boolean\"}\n",
        "Pruning = True #@param {type:\"boolean\"}\n",
        "Monitoring = False #@param {type:\"boolean\"}\n",
        "RunSimulation = True #@param {type:\"boolean\"}"
      ]
    },
    {
      "cell_type": "code",
      "execution_count": null,
      "metadata": {
        "id": "qLMynqjhg0y-"
      },
      "outputs": [],
      "source": [
        "from lib import *\n",
        "\n",
        "board = [['O', ' ', 'X'], ['X', ' ', ' '], ['X', 'O', 'O']]\n",
        "game = Game()\n",
        "\n",
        "if RunSimulation:\n",
        "  game.runSim(AIStarting, Pruning, Monitoring, board)\n",
        "else:\n",
        "  game.runGame(AIStarting, Pruning, Monitoring)"
      ]
    },
    {
      "cell_type": "markdown",
      "metadata": {
        "id": "7NZCZTyQatZj"
      },
      "source": [
        "## Zaključak\n",
        "Izabrali algoritme **minimax** i **alpha-beta pruning**, stavili ih u kontekst umjetne inteligencije kao područja uporabe te smo ih formalno definirali i razmotrili. Prikladno smo prikazali na primjeru igre sume nula za dva igrača **„Križić kružić“** te potvrdili premise postavljene u formalnim definicijama na konkretnim primjerima.\n"
      ]
    }
  ],
  "metadata": {
    "colab": {
      "collapsed_sections": [],
      "name": "UUI projekt.ipynb",
      "provenance": []
    },
    "interpreter": {
      "hash": "916dbcbb3f70747c44a77c7bcd40155683ae19c65e1c03b4aa3499c5328201f1"
    },
    "kernelspec": {
      "display_name": "Python 3.10.4 64-bit",
      "language": "python",
      "name": "python3"
    },
    "language_info": {
      "name": "python",
      "version": "3.10.4"
    }
  },
  "nbformat": 4,
  "nbformat_minor": 0
}
